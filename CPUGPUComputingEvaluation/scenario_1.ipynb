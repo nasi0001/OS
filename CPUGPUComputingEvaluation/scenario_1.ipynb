{
  "cells": [
    {
      "cell_type": "code",
      "source": [
        "!curl https://colab.chainer.org/install | sh -"
      ],
      "metadata": {
        "colab": {
          "base_uri": "https://localhost:8080/"
        },
        "id": "mdv4mW7nfxJ_",
        "outputId": "fcd14fd1-af12-47ff-904b-94646b32dcc1"
      },
      "execution_count": null,
      "outputs": [
        {
          "output_type": "stream",
          "name": "stdout",
          "text": [
            "  % Total    % Received % Xferd  Average Speed   Time    Time     Time  Current\n",
            "                                 Dload  Upload   Total   Spent    Left  Speed\n",
            "\r  0     0    0     0    0     0      0      0 --:--:-- --:--:-- --:--:--     0\r100  1553  100  1553    0     0   8580      0 --:--:-- --:--:-- --:--:--  8627\n",
            "sh: 9: nvidia-smi: not found\n",
            "********************************************************************************\n",
            "GPU is not enabled!\n",
            "Open \"Runtime\" > \"Change runtime type\" and set \"Hardware accelerator\" to \"GPU\".\n",
            "********************************************************************************\n"
          ]
        }
      ]
    },
    {
      "cell_type": "code",
      "execution_count": null,
      "metadata": {
        "colab": {
          "base_uri": "https://localhost:8080/"
        },
        "id": "YY2tTIe5TCa9",
        "outputId": "8636bb48-ef46-432c-f1d7-47d6c79124ee"
      },
      "outputs": [
        {
          "output_type": "stream",
          "name": "stdout",
          "text": [
            "Collecting cupy\n",
            "  Downloading cupy-12.1.0.tar.gz (2.0 MB)\n",
            "\u001b[?25l     \u001b[90m━━━━━━━━━━━━━━━━━━━━━━━━━━━━━━━━━━━━━━━━\u001b[0m \u001b[32m0.0/2.0 MB\u001b[0m \u001b[31m?\u001b[0m eta \u001b[36m-:--:--\u001b[0m\r\u001b[2K     \u001b[91m━━━━━\u001b[0m\u001b[90m╺\u001b[0m\u001b[90m━━━━━━━━━━━━━━━━━━━━━━━━━━━━━━━━━━\u001b[0m \u001b[32m0.3/2.0 MB\u001b[0m \u001b[31m7.4 MB/s\u001b[0m eta \u001b[36m0:00:01\u001b[0m\r\u001b[2K     \u001b[91m━━━━━━━━━━━━━━━━━━━━━━━━━━━━━━━━━━━━━━━\u001b[0m\u001b[91m╸\u001b[0m \u001b[32m2.0/2.0 MB\u001b[0m \u001b[31m28.4 MB/s\u001b[0m eta \u001b[36m0:00:01\u001b[0m\r\u001b[2K     \u001b[90m━━━━━━━━━━━━━━━━━━━━━━━━━━━━━━━━━━━━━━━━\u001b[0m \u001b[32m2.0/2.0 MB\u001b[0m \u001b[31m22.0 MB/s\u001b[0m eta \u001b[36m0:00:00\u001b[0m\n",
            "\u001b[?25h  Preparing metadata (setup.py) ... \u001b[?25l\u001b[?25hdone\n",
            "Requirement already satisfied: numpy<1.27,>=1.20 in /usr/local/lib/python3.10/dist-packages (from cupy) (1.22.4)\n",
            "Requirement already satisfied: fastrlock>=0.5 in /usr/local/lib/python3.10/dist-packages (from cupy) (0.8.1)\n",
            "Building wheels for collected packages: cupy\n",
            "  Building wheel for cupy (setup.py) ... \u001b[?25l\u001b[?25hcanceled\n",
            "\u001b[31mERROR: Operation cancelled by user\u001b[0m\u001b[31m\n",
            "\u001b[0m"
          ]
        }
      ],
      "source": [
        "! pip install cupy"
      ]
    },
    {
      "cell_type": "code",
      "execution_count": null,
      "metadata": {
        "colab": {
          "base_uri": "https://localhost:8080/"
        },
        "id": "Bcg594ySCFZ1",
        "outputId": "56d66d3e-09c6-408c-de69-4ed766398e59"
      },
      "outputs": [
        {
          "output_type": "stream",
          "name": "stdout",
          "text": [
            "CPU Result:\n",
            "[[232.107361   240.35304303 247.44282674 ... 246.08769966 241.75002694\n",
            "  240.5008627 ]\n",
            " [248.0807191  261.0101251  256.62559709 ... 264.01820251 259.48957413\n",
            "  254.47232387]\n",
            " [236.58143971 244.26816637 256.27944252 ... 257.28183552 250.97603201\n",
            "  244.77823204]\n",
            " ...\n",
            " [230.9901109  243.15656611 245.50949451 ... 247.12555081 244.10983629\n",
            "  240.61164703]\n",
            " [239.92562034 248.27205897 248.41083577 ... 250.18905023 247.45544455\n",
            "  244.79782356]\n",
            " [241.66912389 249.9414937  247.93743176 ... 253.75992977 247.72940239\n",
            "  244.73558569]]\n",
            "GPU Result:\n",
            "[[232.107361   240.35304303 247.44282674 ... 246.08769966 241.75002694\n",
            "  240.5008627 ]\n",
            " [248.0807191  261.0101251  256.62559709 ... 264.01820251 259.48957413\n",
            "  254.47232387]\n",
            " [236.58143971 244.26816637 256.27944252 ... 257.28183552 250.97603201\n",
            "  244.77823204]\n",
            " ...\n",
            " [230.9901109  243.15656611 245.50949451 ... 247.12555081 244.10983629\n",
            "  240.61164703]\n",
            " [239.92562034 248.27205897 248.41083577 ... 250.18905023 247.45544455\n",
            "  244.79782356]\n",
            " [241.66912389 249.9414937  247.93743176 ... 253.75992977 247.72940239\n",
            "  244.73558569]]\n",
            "CPU Execution Time: 0.05965018272399902 seconds\n",
            "GPU Execution Time: 3.5366883277893066 seconds\n"
          ]
        }
      ],
      "source": [
        "import numpy as np\n",
        "import time\n",
        "import cupy as cp\n",
        "\n",
        "# Define the matrix sizes\n",
        "matrix_size = 1000\n",
        "matrix_a = np.random.rand(matrix_size, matrix_size)\n",
        "matrix_b = np.random.rand(matrix_size, matrix_size)\n",
        "\n",
        "# CPU Matrix Multiplication\n",
        "def cpu_matrix_multiplication(matrix_a, matrix_b):\n",
        "    start_time = time.time()\n",
        "\n",
        "    # Perform matrix multiplication using CPU\n",
        "    cpu_result = np.dot(matrix_a, matrix_b)\n",
        "\n",
        "    end_time = time.time()\n",
        "    execution_time = end_time - start_time\n",
        "    return cpu_result, execution_time\n",
        "\n",
        "# GPU Matrix Multiplication\n",
        "def gpu_matrix_multiplication(matrix_a, matrix_b):\n",
        "    start_time = time.time()\n",
        "\n",
        "    # Perform matrix multiplication using GPU\n",
        "    gpu_matrix_a = cp.asarray(matrix_a)\n",
        "    gpu_matrix_b = cp.asarray(matrix_b)\n",
        "    gpu_result = cp.dot(gpu_matrix_a, gpu_matrix_b)\n",
        "    cpu_result = cp.asnumpy(gpu_result)\n",
        "\n",
        "    end_time = time.time()\n",
        "    execution_time = end_time - start_time\n",
        "    return cpu_result, execution_time\n",
        "\n",
        "# Run CPU Matrix Multiplication\n",
        "cpu_result, cpu_execution_time = cpu_matrix_multiplication(matrix_a, matrix_b)\n",
        "\n",
        "# Run GPU Matrix Multiplication\n",
        "gpu_result, gpu_execution_time = gpu_matrix_multiplication(matrix_a, matrix_b)\n",
        "\n",
        "# Compare the results (optional)\n",
        "print(\"CPU Result:\")\n",
        "print(cpu_result)\n",
        "print(\"GPU Result:\")\n",
        "print(gpu_result)\n",
        "\n",
        "# Print the execution times\n",
        "print(\"CPU Execution Time:\", cpu_execution_time, \"seconds\")\n",
        "print(\"GPU Execution Time:\", gpu_execution_time, \"seconds\")\n"
      ]
    }
  ],
  "metadata": {
    "accelerator": "GPU",
    "colab": {
      "provenance": [],
      "gpuType": "T4"
    },
    "kernelspec": {
      "display_name": "Python 3",
      "name": "python3"
    },
    "language_info": {
      "name": "python"
    }
  },
  "nbformat": 4,
  "nbformat_minor": 0
}
